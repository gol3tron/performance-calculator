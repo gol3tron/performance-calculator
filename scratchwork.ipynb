{
 "cells": [
  {
   "cell_type": "markdown",
   "metadata": {},
   "source": [
    "### Scratchwork notebook for aircraft performance calculator"
   ]
  },
  {
   "cell_type": "code",
   "execution_count": 1,
   "metadata": {},
   "outputs": [],
   "source": [
    "import numpy as np\n",
    "import scipy as sp\n",
    "from tables_172S import *"
   ]
  },
  {
   "cell_type": "code",
   "execution_count": 2,
   "metadata": {},
   "outputs": [
    {
     "data": {
      "text/plain": [
       "array([[[ 860,  940, 1025, 1125, 1235, 1355, 1495, 1645, 1820],\n",
       "        [ 925, 1010, 1110, 1215, 1335, 1465, 1615, 1785, 1970],\n",
       "        [ 995, 1090, 1195, 1310, 1440, 1585, 1745, 1920, 2120],\n",
       "        [1070, 1170, 1285, 1410, 1550, 1705, 1875, 2065, 2280],\n",
       "        [1150, 1260, 1380, 1515, 1660, 1825, 2010, 2215, 2450]],\n",
       "\n",
       "       [[ 745,  810,  885,  970, 1065, 1170, 1285, 1415, 1560],\n",
       "        [ 800,  875,  955, 1050, 1150, 1265, 1390, 1530, 1690],\n",
       "        [ 860,  940, 1030, 1130, 1240, 1360, 1500, 1650, 1815],\n",
       "        [ 925, 1010, 1110, 1215, 1335, 1465, 1610, 1770, 1950],\n",
       "        [ 995, 1085, 1190, 1305, 1430, 1570, 1725, 1900, 2095]],\n",
       "\n",
       "       [[ 610,  665,  725,  795,  870,  955, 1050, 1150, 1270],\n",
       "        [ 655,  720,  785,  860,  940, 1030, 1130, 1245, 1370],\n",
       "        [ 705,  770,  845,  925, 1010, 1110, 1220, 1340, 1475],\n",
       "        [ 760,  830,  905,  995, 1090, 1195, 1310, 1435, 1580],\n",
       "        [ 815,  890,  975, 1065, 1165, 1275, 1400, 1540, 1695]]])"
      ]
     },
     "execution_count": 2,
     "metadata": {},
     "output_type": "execute_result"
    }
   ],
   "source": [
    "sfto_ground_roll"
   ]
  },
  {
   "cell_type": "code",
   "execution_count": 11,
   "metadata": {},
   "outputs": [
    {
     "data": {
      "text/plain": [
       "(array([2550, 2400, 2200]),\n",
       " array([ 0, 10, 20, 30, 40]),\n",
       " array([   0, 1000, 2000, 3000, 4000, 5000, 6000, 7000, 8000]))"
      ]
     },
     "execution_count": 11,
     "metadata": {},
     "output_type": "execute_result"
    }
   ],
   "source": [
    "points = (weight_index, temperature_index, pressure_altitude_index)\n",
    "points"
   ]
  },
  {
   "cell_type": "code",
   "execution_count": 12,
   "metadata": {},
   "outputs": [],
   "source": [
    "point = np.array([2550, 0, 0])"
   ]
  },
  {
   "cell_type": "code",
   "execution_count": 33,
   "metadata": {},
   "outputs": [
    {
     "data": {
      "text/plain": [
       "array([860.])"
      ]
     },
     "execution_count": 33,
     "metadata": {},
     "output_type": "execute_result"
    }
   ],
   "source": [
    "sp.interpolate.interpn(points, sfto_ground_roll, point)"
   ]
  },
  {
   "cell_type": "code",
   "execution_count": 23,
   "metadata": {},
   "outputs": [
    {
     "data": {
      "text/plain": [
       "array([2550, 2400, 2200])"
      ]
     },
     "execution_count": 23,
     "metadata": {},
     "output_type": "execute_result"
    }
   ],
   "source": [
    "weight_index"
   ]
  },
  {
   "cell_type": "code",
   "execution_count": 19,
   "metadata": {},
   "outputs": [
    {
     "data": {
      "text/plain": [
       "array([51, 48, 44])"
      ]
     },
     "execution_count": 19,
     "metadata": {},
     "output_type": "execute_result"
    }
   ],
   "source": [
    "lift_off_index"
   ]
  },
  {
   "cell_type": "code",
   "execution_count": 27,
   "metadata": {},
   "outputs": [
    {
     "data": {
      "text/plain": [
       "51.0"
      ]
     },
     "execution_count": 27,
     "metadata": {},
     "output_type": "execute_result"
    }
   ],
   "source": [
    "# x-coordinates in index must be increasing order\n",
    "np.interp(np.array(2550), weight_index[::-1], lift_off_index[::-1])"
   ]
  },
  {
   "cell_type": "code",
   "execution_count": 28,
   "metadata": {},
   "outputs": [
    {
     "data": {
      "text/plain": [
       "56.0"
      ]
     },
     "execution_count": 28,
     "metadata": {},
     "output_type": "execute_result"
    }
   ],
   "source": [
    "# x-coordinates in index must be increasing order\n",
    "np.interp(np.array(2550), weight_index[::-1], speed_at_50_feet_index[::-1])"
   ]
  },
  {
   "cell_type": "code",
   "execution_count": 34,
   "metadata": {},
   "outputs": [],
   "source": [
    "def get_short_field_takeoff_performance(pressure_altitude: float, weight: float, temperature: float) -> float:\n",
    "    \"\"\"\n",
    "    Compute the short field takeoff ground roll, distance at 50 ft obstacle, lift off speed, and speed at 50 ft\n",
    "    given aircraft weight, pressure altitude in ft, and temperature in deg C. \n",
    "\n",
    "    Return ground_roll, dist_50ft, lift_off_speed, speed_at_50ft\n",
    "    \"\"\"\n",
    "\n",
    "    # Compute ground_roll\n",
    "    points = (weight_index, temperature_index, pressure_altitude_index)\n",
    "    point = np.array([weight, temperature, pressure_altitude])\n",
    "    ground_roll = sp.interpolate.interpn(points, sfto_ground_roll, point)[0]\n",
    "\n",
    "    # Compute dist_50ft\n",
    "    # TODO add table!\n",
    "    dist_50ft = 0\n",
    "\n",
    "    # Compute lift_off_speed\n",
    "    lift_off_speed = np.interp(np.array(weight), weight_index[::-1], lift_off_index[::-1])\n",
    "\n",
    "    # Compute lift_off_speed\n",
    "    speed_at_50ft = np.interp(np.array(2550), weight_index[::-1], speed_at_50_feet_index[::-1])\n",
    "\n",
    "    return ground_roll, dist_50ft, lift_off_speed, speed_at_50ft"
   ]
  },
  {
   "cell_type": "code",
   "execution_count": 35,
   "metadata": {},
   "outputs": [
    {
     "data": {
      "text/plain": [
       "(1257.5281249999998, 0, 47.0, 56.0)"
      ]
     },
     "execution_count": 35,
     "metadata": {},
     "output_type": "execute_result"
    }
   ],
   "source": [
    "get_short_field_takeoff_performance(5045, 2350, 15)"
   ]
  },
  {
   "cell_type": "code",
   "execution_count": null,
   "metadata": {},
   "outputs": [],
   "source": []
  }
 ],
 "metadata": {
  "kernelspec": {
   "display_name": "Python 3",
   "language": "python",
   "name": "python3"
  },
  "language_info": {
   "codemirror_mode": {
    "name": "ipython",
    "version": 3
   },
   "file_extension": ".py",
   "mimetype": "text/x-python",
   "name": "python",
   "nbconvert_exporter": "python",
   "pygments_lexer": "ipython3",
   "version": "3.10.12"
  }
 },
 "nbformat": 4,
 "nbformat_minor": 2
}
