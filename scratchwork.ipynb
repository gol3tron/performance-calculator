{
 "cells": [
  {
   "cell_type": "markdown",
   "metadata": {},
   "source": [
    "### Scratchwork notebook for aircraft performance calculator"
   ]
  },
  {
   "cell_type": "code",
   "execution_count": 13,
   "metadata": {},
   "outputs": [],
   "source": [
    "import numpy as np\n",
    "import scipy as sp"
   ]
  },
  {
   "cell_type": "code",
   "execution_count": 12,
   "metadata": {},
   "outputs": [],
   "source": [
    "# SFTO index arrays\n",
    "temp_index = np.array([0, 10, 20, 30, 40])\n",
    "pressure_altitude_index = np.array([0, 1000, 2000, 3000, 4000, 5000, 6000, 7000, 8000])"
   ]
  },
  {
   "cell_type": "code",
   "execution_count": 10,
   "metadata": {},
   "outputs": [],
   "source": [
    "# Ground roll table for 2550 pounds\n",
    "sfto = np.array([\n",
    "    [\n",
    "        860,\n",
    "        940,\n",
    "        1025,\n",
    "        1125,\n",
    "        1235,\n",
    "        1355,\n",
    "        1495,\n",
    "        1645,\n",
    "        1820\n",
    "    ],\n",
    "\n",
    "    [\n",
    "        925,\n",
    "        1010,\n",
    "        1110,\n",
    "        1215,\n",
    "        1335,\n",
    "        1465,\n",
    "        1615,\n",
    "        1785,\n",
    "        1970\n",
    "    ],\n",
    "\n",
    "    [\n",
    "        995,\n",
    "        1090,\n",
    "        1195,\n",
    "        1310,\n",
    "        1440,\n",
    "        1585,\n",
    "        1745,\n",
    "        1920,\n",
    "        2120\n",
    "    ],\n",
    "\n",
    "    [\n",
    "        1070,\n",
    "        1170,\n",
    "        1285,\n",
    "        1410,\n",
    "        1550,\n",
    "        1705,\n",
    "        1875,\n",
    "        2065,\n",
    "        2280\n",
    "    ],\n",
    "\n",
    "    [\n",
    "        1150,\n",
    "        1260,\n",
    "        1380,\n",
    "        1515,\n",
    "        1660,\n",
    "        1825,\n",
    "        2010,\n",
    "        2215,\n",
    "        2450\n",
    "    ]\n",
    "\n",
    "]\n",
    ")"
   ]
  },
  {
   "cell_type": "code",
   "execution_count": 11,
   "metadata": {},
   "outputs": [
    {
     "data": {
      "text/plain": [
       "array([[ 860,  940, 1025, 1125, 1235, 1355, 1495, 1645, 1820],\n",
       "       [ 925, 1010, 1110, 1215, 1335, 1465, 1615, 1785, 1970],\n",
       "       [ 995, 1090, 1195, 1310, 1440, 1585, 1745, 1920, 2120],\n",
       "       [1070, 1170, 1285, 1410, 1550, 1705, 1875, 2065, 2280],\n",
       "       [1150, 1260, 1380, 1515, 1660, 1825, 2010, 2215, 2450]])"
      ]
     },
     "execution_count": 11,
     "metadata": {},
     "output_type": "execute_result"
    }
   ],
   "source": [
    "sfto"
   ]
  },
  {
   "cell_type": "code",
   "execution_count": 20,
   "metadata": {},
   "outputs": [
    {
     "data": {
      "text/plain": [
       "(array([ 0, 10, 20, 30, 40]),\n",
       " array([   0, 1000, 2000, 3000, 4000, 5000, 6000, 7000, 8000]))"
      ]
     },
     "execution_count": 20,
     "metadata": {},
     "output_type": "execute_result"
    }
   ],
   "source": [
    "points = (temp_index, pressure_altitude_index)\n",
    "points"
   ]
  },
  {
   "cell_type": "code",
   "execution_count": 23,
   "metadata": {},
   "outputs": [],
   "source": [
    "point = np.array([15, 2000])"
   ]
  },
  {
   "cell_type": "code",
   "execution_count": 24,
   "metadata": {},
   "outputs": [
    {
     "data": {
      "text/plain": [
       "array([1152.5])"
      ]
     },
     "execution_count": 24,
     "metadata": {},
     "output_type": "execute_result"
    }
   ],
   "source": [
    "sp.interpolate.interpn(points, sfto, point)"
   ]
  },
  {
   "cell_type": "code",
   "execution_count": null,
   "metadata": {},
   "outputs": [],
   "source": []
  }
 ],
 "metadata": {
  "kernelspec": {
   "display_name": "Python 3",
   "language": "python",
   "name": "python3"
  },
  "language_info": {
   "codemirror_mode": {
    "name": "ipython",
    "version": 3
   },
   "file_extension": ".py",
   "mimetype": "text/x-python",
   "name": "python",
   "nbconvert_exporter": "python",
   "pygments_lexer": "ipython3",
   "version": "3.10.12"
  }
 },
 "nbformat": 4,
 "nbformat_minor": 2
}
